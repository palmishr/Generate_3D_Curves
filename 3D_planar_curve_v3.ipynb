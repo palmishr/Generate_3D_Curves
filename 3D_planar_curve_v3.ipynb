{
 "cells": [
  {
   "cell_type": "markdown",
   "metadata": {
    "toc": "true"
   },
   "source": [
    "# Table of Contents\n",
    " <p>"
   ]
  },
  {
   "cell_type": "code",
   "execution_count": 2,
   "metadata": {
    "collapsed": false
   },
   "outputs": [
    {
     "name": "stdout",
     "output_type": "stream",
     "text": [
      "0.64063386974 -0.0615642134047 -0.76537447865\n",
      "accepted distance d:  0.9389357752585685  is less than r:  1 alt_values_tested:  0\n",
      "0.540634408707 -0.0618248505714 -0.765174825798\n",
      "accepted distance d:  0.8857937371054456  is less than r:  1 alt_values_tested:  0\n",
      "0.440637501907 -0.0616537654096 -0.765942523835\n",
      "accepted distance d:  0.840844349114096  is less than r:  1 alt_values_tested:  0\n",
      "0.340666300569 -0.0640501478452 -0.766070016157\n",
      "accepted distance d:  0.8050465136150632  is less than r:  1 alt_values_tested:  0\n",
      "0.240710699944 -0.0610842109856 -0.765785196504\n",
      "accepted distance d:  0.7817056716297097  is less than r:  1 alt_values_tested:  0\n",
      "0.140723255951 -0.0597319284187 -0.766611256779\n",
      "accepted distance d:  0.7706648062189694  is less than r:  1 alt_values_tested:  0\n",
      "0.0407687554993 -0.0627195840796 -0.767025687896\n",
      "accepted distance d:  0.7711113400416812  is less than r:  1 alt_values_tested:  0\n",
      "-0.0592275814583 -0.0622516140142 -0.766309029627\n",
      "accepted distance d:  0.7845838505606216  is less than r:  1 alt_values_tested:  0\n",
      "-0.15921263779 -0.0605801898946 -0.765867609395\n",
      "accepted distance d:  0.8104770546033696  is less than r:  1 alt_values_tested:  0\n",
      "-0.259202449106 -0.0591730466888 -0.765627649032\n",
      "accepted distance d:  0.8482290778280901  is less than r:  1 alt_values_tested:  0\n",
      "-0.359199247811 -0.0585961020673 -0.766182070834\n",
      "accepted distance d:  0.8953811477857606  is less than r:  1 alt_values_tested:  0\n",
      "-0.459198842313 -0.0584686118295 -0.766436719149\n",
      "accepted distance d:  0.9501076796650114  is less than r:  1 alt_values_tested:  0\n",
      "-0.559173238945 -0.056235328447 -0.766072763933\n",
      "accepted distance d:  1.011800038339788  is less than r:  1 alt_values_tested:  10000\n",
      "max trial reached:  10000\n",
      "0 0 0\n",
      "FAIL\n",
      "[0.64063386974043801, 0.54063440870686164, 0.44063750190675055, 0.34066630056891506, 0.24071069994388775, 0.14072325595074647, 0.040768755499285339, -0.059227581458342393, -0.15921263778973344, -0.25920244910579815, -0.35919924781140111, -0.45919884231295444, -0.55917323894496562] [-0.061564213404715039, -0.06182485057139548, -0.061653765409561544, -0.064050147845213803, -0.061084210985593052, -0.059731928418736216, -0.062719584079608065, -0.06225161401415482, -0.060580189894582033, -0.059173046688783454, -0.058596102067297283, -0.05846861182954486, -0.056235328447017167] [-0.76537447865032071, -0.76517482579761853, -0.76594252383545891, -0.76607001615701131, -0.76578519650392773, -0.76661125677885478, -0.76702568789607173, -0.76630902962715075, -0.76586760939532061, -0.76562764903161407, -0.76618207083390744, -0.76643671914862899, -0.766072763933482]\n"
     ]
    }
   ],
   "source": [
    "import numpy as np\n",
    "import scipy as sp\n",
    "import matplotlib.pyplot as plt\n",
    "from mpl_toolkits.mplot3d import Axes3D\n",
    "from matplotlib.ticker import LinearLocator\n",
    "from matplotlib import cm\n",
    "import math\n",
    "\n",
    "\n",
    "def random_three_vector_sphere_1():\n",
    "    \"\"\"\n",
    "    Generates a random 3D unit vector (direction) with a uniform spherical distribution\n",
    "    Algo from http://stackoverflow.com/questions/5408276/python-uniform-spherical-distribution\n",
    "    :return:\n",
    "    \"\"\"\n",
    "    phi = np.random.uniform(0,np.pi*2)\n",
    "    costheta = np.random.uniform(-1,1)\n",
    "\n",
    "    theta = np.arccos( costheta )\n",
    "    x = np.sin( theta) * np.cos( phi )\n",
    "    y = np.sin( theta) * np.sin( phi )\n",
    "    z = np.cos( theta )\n",
    "    return (x,y,z)\n",
    "\n",
    "def random_three_vector_sphere_2(cx = 0 , cy = 0, cz = 0, radius = 1, restrict = False):\n",
    "    \"\"\"\n",
    "    Generates a random 3D unit vector (direction) with a uniform spherical distribution\n",
    "    Algo from http://mathworld.wolfram.com/SpherePointPicking\n",
    "    :return:\n",
    "    \"\"\"\n",
    "\n",
    "    if (restrict == True) :\n",
    "       U = np.random.uniform(0.495,0.505)\n",
    "       V = np.random.uniform(0.505,0.495)\n",
    "    else :    \n",
    "       U = np.random.uniform(0,1)\n",
    "       V = np.random.uniform(0,1)\n",
    "    \n",
    "    theta = np.pi*2*U\n",
    "    cosphi = 2*V - 1\n",
    "\n",
    "    phi = np.arccos( cosphi )\n",
    "    x = np.sin( phi ) * np.cos( theta )\n",
    "    y = np.sin( phi ) * np.sin( theta )\n",
    "    z = np.cos( phi )\n",
    "    return (x*radius+cx,y*radius+cy,z*radius+cz)\n",
    "\n",
    "def random_next_vertix(px ,py, pz, delta = 0.001):\n",
    "    cx = 0 \n",
    "    cy = 0 \n",
    "    cz = 0 \n",
    "    r = 1\n",
    "    max_trial = 10000\n",
    "    alt_values_tested = 0\n",
    "\n",
    "    nx, ny, nz = random_three_vector_sphere_2(px, py, pz, delta, True)\n",
    "    d = math.sqrt((nx-cx)**2 + (ny-cy)**2 + (nz-cz)**2)\n",
    "\n",
    "    while ((d > r) & (alt_values_tested < max_trial)) :\n",
    "        #print(\"distance d: \", d, \" is greater than r: \", r)\n",
    "        tx, ty, tz = random_three_vector_sphere_2(px, py, pz, delta, True)\n",
    "        d = math.sqrt((tx-cx )**2 + (ty-cy)**2 + (tz-cz)**2)   \n",
    "        alt_values_tested += 1\n",
    " \n",
    "    print(\"accepted distance d: \", d, \" is less than r: \", r, \"alt_values_tested: \", alt_values_tested)\n",
    "    \n",
    "    if(alt_values_tested >= max_trial) :\n",
    "        print(\"max trial reached: \", alt_values_tested)\n",
    "        return 0,0,0\n",
    "    \n",
    "    if(alt_values_tested > 0) :\n",
    "        return tx,ty,tz\n",
    "    \n",
    "\n",
    "    return nx, ny, nz\n",
    "\n",
    "X = []\n",
    "Y = []\n",
    "Z = []\n",
    "\n",
    "delta = 0.1\n",
    "n = 50\n",
    "\n",
    "fig = plt.figure()\n",
    "ax = fig.add_subplot(111, projection='3d')\n",
    "\n",
    "#first vertix on unit sphere\n",
    "x1,y1,z1 = random_three_vector_sphere_2()\n",
    "print(x1, y1, z1)\n",
    "X.append(x1)\n",
    "Y.append(y1)\n",
    "Z.append(z1)\n",
    "#ax.scatter(x1, y1, z1)\n",
    "\n",
    "xs,ys,zs = random_next_vertix(x1,y1,z1,delta)\n",
    "print(xs, ys, zs)\n",
    "X.append(xs)\n",
    "Y.append(ys)\n",
    "Z.append(zs)\n",
    "#ax.scatter(xs, ys, zs)\n",
    "\n",
    "for i in range(n):\n",
    "    nx,ny,nz = random_next_vertix(xs,ys,zs,delta)\n",
    "    print(nx, ny, nz)\n",
    "    if (nx == ny == nz == 0):\n",
    "        print(\"FAIL\")\n",
    "        break \n",
    "    xs = nx\n",
    "    ys = ny\n",
    "    zs = nz\n",
    "    #ax.scatter(xs, ys, zs)\n",
    "    X.append(xs)\n",
    "    Y.append(ys)\n",
    "    Z.append(zs)\n",
    "    \n",
    "#Test 1 - tri-surface plot    \n",
    "#ax.plot_trisurf(X, Y, Z, cmap=cm.jet, linewidth=0.2)\n",
    "#ax.set_zlim3d(-1, 1)\n",
    "#ax.set_ylim3d(-1, 1)\n",
    "#ax.set_xlim3d(-1, 1)\n",
    "\n",
    "#Test 2 - wireframe\n",
    "ax.plot_wireframe(X, Y, Z)\n",
    "\n",
    "#Test 3 - scatterplot\n",
    "ax.scatter(X, Y, Z)\n",
    "#ax.set_xlabel('X axis')\n",
    "#ax.set_ylabel('Y axis')\n",
    "#ax.set_zlabel('Z axis')\n",
    "#ax.set_zlim3d(-1, 1)\n",
    "#ax.set_ylim3d(-1, 1)\n",
    "#ax.set_xlim3d(-1, 1)\n",
    "\n",
    "print(X,Y,Z)\n",
    "\n",
    "plt.show()"
   ]
  },
  {
   "cell_type": "code",
   "execution_count": 3,
   "metadata": {
    "collapsed": false
   },
   "outputs": [
    {
     "name": "stdout",
     "output_type": "stream",
     "text": [
      "Random First point -0.403178934718 0.571273759878 0.714907712838\n",
      "Random Second point 0.795593880759 -0.605751123219 0.00979559179814\n",
      "A:  [[-0.40317893  0.57127376  1.        ]\n",
      " [ 0.79559388 -0.60575112  1.        ]\n",
      " [ 0.          0.          1.        ]]\n",
      "C: [  2.08607973e+00   2.72368735e+00  -4.42376517e-16]\n",
      "Z mesh: [[ -4.80976708e+00  -4.28824715e+00  -3.76672722e+00  -3.24520728e+00\n",
      "   -2.72368735e+00  -2.20216742e+00  -1.68064749e+00  -1.15912756e+00]\n",
      " [ -4.12884524e+00  -3.60732531e+00  -3.08580538e+00  -2.56428545e+00\n",
      "   -2.04276551e+00  -1.52124558e+00  -9.99725651e-01  -4.78205720e-01]\n",
      " [ -3.44792340e+00  -2.92640347e+00  -2.40488354e+00  -1.88336361e+00\n",
      "   -1.36184368e+00  -8.40323745e-01  -3.18803813e-01   2.02716118e-01]\n",
      " [ -2.76700156e+00  -2.24548163e+00  -1.72396170e+00  -1.20244177e+00\n",
      "   -6.80921838e-01  -1.59401907e-01   3.62118025e-01   8.83637956e-01]\n",
      " [ -2.08607973e+00  -1.56455979e+00  -1.04303986e+00  -5.21519931e-01\n",
      "   -4.42376517e-16   5.21519931e-01   1.04303986e+00   1.56455979e+00]\n",
      " [ -1.40515789e+00  -8.83637956e-01  -3.62118025e-01   1.59401907e-01\n",
      "    6.80921838e-01   1.20244177e+00   1.72396170e+00   2.24548163e+00]\n",
      " [ -7.24236050e-01  -2.02716118e-01   3.18803813e-01   8.40323745e-01\n",
      "    1.36184368e+00   1.88336361e+00   2.40488354e+00   2.92640347e+00]\n",
      " [ -4.33142117e-02   4.78205720e-01   9.99725651e-01   1.52124558e+00\n",
      "    2.04276551e+00   2.56428545e+00   3.08580538e+00   3.60732531e+00]]\n",
      "X:  [ 0.64063387  0.54063441  0.4406375   0.3406663   0.2407107   0.14072326\n",
      "  0.04076876 -0.05922758 -0.15921264 -0.25920245 -0.35919925 -0.45919884\n",
      " -0.55917324]\n",
      "Y:  [-0.06156421 -0.06182485 -0.06165377 -0.06405015 -0.06108421 -0.05973193\n",
      " -0.06271958 -0.06225161 -0.06058019 -0.05917305 -0.0585961  -0.05846861\n",
      " -0.05623533]\n",
      "x, y, z:  [[  0.00000000e+00   3.17279335e-02   6.34239197e-02 ...,   6.34239197e-02\n",
      "    3.17279335e-02   1.22464680e-16]\n",
      " [  0.00000000e+00   3.16640549e-02   6.32962268e-02 ...,   6.32962268e-02\n",
      "    3.16640549e-02   1.22218119e-16]\n",
      " [  0.00000000e+00   3.14726763e-02   6.29136624e-02 ...,   6.29136624e-02\n",
      "    3.14726763e-02   1.21479429e-16]\n",
      " ..., \n",
      " [  0.00000000e+00   3.14726763e-02   6.29136624e-02 ...,   6.29136624e-02\n",
      "    3.14726763e-02   1.21479429e-16]\n",
      " [  0.00000000e+00   3.16640549e-02   6.32962268e-02 ...,   6.32962268e-02\n",
      "    3.16640549e-02   1.22218119e-16]\n",
      " [  0.00000000e+00   3.17279335e-02   6.34239197e-02 ...,   6.34239197e-02\n",
      "    3.17279335e-02   1.22464680e-16]] [[  0.00000000e+00   0.00000000e+00   0.00000000e+00 ...,   0.00000000e+00\n",
      "    0.00000000e+00   0.00000000e+00]\n",
      " [  0.00000000e+00   2.01230991e-03   4.02259358e-03 ...,   4.02259358e-03\n",
      "    2.01230991e-03   7.76719002e-18]\n",
      " [  0.00000000e+00   4.01651695e-03   8.02898960e-03 ...,   8.02898960e-03\n",
      "    4.01651695e-03   1.55031043e-17]\n",
      " ..., \n",
      " [ -0.00000000e+00  -4.01651695e-03  -8.02898960e-03 ...,  -8.02898960e-03\n",
      "   -4.01651695e-03  -1.55031043e-17]\n",
      " [ -0.00000000e+00  -2.01230991e-03  -4.02259358e-03 ...,  -4.02259358e-03\n",
      "   -2.01230991e-03  -7.76719002e-18]\n",
      " [ -0.00000000e+00  -7.77110244e-18  -1.55343800e-17 ...,  -1.55343800e-17\n",
      "   -7.77110244e-18  -2.99951957e-32]] [[ 1.          0.99949654  0.99798668 ..., -0.99798668 -0.99949654 -1.        ]\n",
      " [ 1.          0.99949654  0.99798668 ..., -0.99798668 -0.99949654 -1.        ]\n",
      " [ 1.          0.99949654  0.99798668 ..., -0.99798668 -0.99949654 -1.        ]\n",
      " ..., \n",
      " [ 1.          0.99949654  0.99798668 ..., -0.99798668 -0.99949654 -1.        ]\n",
      " [ 1.          0.99949654  0.99798668 ..., -0.99798668 -0.99949654 -1.        ]\n",
      " [ 1.          0.99949654  0.99798668 ..., -0.99798668 -0.99949654 -1.        ]]\n",
      "len x, len y, len z:  100 100 100\n"
     ]
    }
   ],
   "source": [
    "import numpy as np\n",
    "import scipy.linalg\n",
    "from mpl_toolkits.mplot3d import Axes3D\n",
    "import matplotlib.pyplot as plt\n",
    "\n",
    "\n",
    "center = np.array([0.0,0.0,0.0])\n",
    "# select 2 3-dim points on the circumference of the circle\n",
    "x1,y1,z1 = random_three_vector_sphere_2()\n",
    "print(\"Random First point\", x1, y1, z1)\n",
    "x2,y2,z2 = random_three_vector_sphere_2()\n",
    "print(\"Random Second point\", x2, y2, z2)\n",
    "\n",
    "\n",
    "data = np.array([[x1,y1,z1], [x2,y2,z2], [0, 0, 0]])\n",
    "\n",
    "# regular grid covering the domain of the data\n",
    "X_mesh,Y_mesh = np.meshgrid(np.arange(-1.0, 1.0, 0.25), np.arange(-1.0, 1.0, 0.25))\n",
    "XX = X_mesh.flatten()\n",
    "YY = Y_mesh.flatten()\n",
    "\n",
    "order = 1    # 1: linear, 2: quadratic\n",
    "if order == 1:\n",
    "    # best-fit linear plane\n",
    "    A = np.c_[data[:,0], data[:,1], np.ones(data.shape[0])]\n",
    "    print(\"A: \", A)\n",
    "    C,_,_,_ = scipy.linalg.lstsq(A, data[:,2])    # coefficients\n",
    "    print(\"C:\", C)\n",
    "    \n",
    "    # evaluate it on grid\n",
    "    Z_mesh = C[0]*X_mesh + C[1]*Y_mesh + C[2]\n",
    "    print(\"Z mesh:\", Z_mesh)\n",
    "    \n",
    "    # or expressed using matrix/vector product\n",
    "    #Z = np.dot(np.c_[XX, YY, np.ones(XX.shape)], C).reshape(X.shape)\n",
    "\n",
    "X = np.asarray(X)\n",
    "Y = np.asarray(Y)\n",
    "Z = np.asarray(Z)\n",
    "\n",
    "print(\"X: \", X)\n",
    "print(\"Y: \", Y)\n",
    "Z_planar = C[0]*X + C[1]*Y + C[2]\n",
    "#print(\"Z_planar: \", Z_planar)\n",
    "    \n",
    "    \n",
    "# plot points and fitted surface\n",
    "fig = plt.figure()\n",
    "ax = fig.gca(projection='3d')\n",
    "#ax.plot_surface(X_mesh, Y_mesh, Z_mesh, rstride=1, cstride=1, alpha=0.2)\n",
    "#ax.scatter(data[:,0], data[:,1], data[:,2], c='r', s=100)\n",
    "ax.scatter(X, Y, Z_planar, c='r', s=50)\n",
    "#ax.plot_wireframe(X, Y, Z)\n",
    "\n",
    "plt.xlabel('X')\n",
    "plt.ylabel('Y')\n",
    "ax.set_zlabel('Z')\n",
    "#ax.axis('equal')\n",
    "#ax.axis('tight')\n",
    "\n",
    "\n",
    "\n",
    "u = np.linspace(0, 2 * np.pi, 100)\n",
    "v = np.linspace(0, np.pi, 100)\n",
    "#x = 1 * np.outer(np.cos(u), np.sin(v))\n",
    "#y = 1 * np.outer(np.sin(u), np.sin(v))\n",
    "#z = 1 * np.outer(np.ones(np.size(u)), np.cos(v))\n",
    "\n",
    "x = 1 * np.outer(np.cos(u), np.sin(v))\n",
    "y = 1 *  np.outer(np.sin(u), np.sin(v))\n",
    "z = 1 * np.outer(np.ones(np.size(u)), np.cos(v))\n",
    "\n",
    "print(\"x, y, z: \", x,y,z)\n",
    "print(\"len x, len y, len z: \", len(x), len(y) , len(z))\n",
    "\n",
    "#for i in range(2):\n",
    "#    ax.plot_surface(x+random.randint(-5,5), y+random.randint(-5,5), z+random.randint(-5,5),  rstride=4, cstride=4, color='b', linewidth=0, alpha=0.5)\n",
    "\n",
    "#ax.scatter(x, y, z)\n",
    "#ax.plot_surface(x, y, z,  rstride=4, cstride=4, color='b', linewidth=0, alpha=0.5)\n",
    "\n",
    "plt.show()"
   ]
  },
  {
   "cell_type": "code",
   "execution_count": 4,
   "metadata": {
    "collapsed": false
   },
   "outputs": [
    {
     "name": "stdout",
     "output_type": "stream",
     "text": [
      "[ 0.64063387  0.54063441  0.4406375   0.3406663   0.2407107   0.14072326\n",
      "  0.04076876 -0.05922758 -0.15921264 -0.25920245 -0.35919925 -0.45919884\n",
      " -0.55917324] [-0.06156421 -0.06182485 -0.06165377 -0.06405015 -0.06108421 -0.05973193\n",
      " -0.06271958 -0.06225161 -0.06058019 -0.05917305 -0.0585961  -0.05846861\n",
      " -0.05623533] [ 1.16873166  0.95941492  0.75127938  0.53620449  0.33576742  0.13086883\n",
      " -0.08578166 -0.29310739 -0.49713175 -0.70188585 -0.90891573 -1.11717561\n",
      " -1.31964741]\n"
     ]
    }
   ],
   "source": [
    "print(X,Y,Z_planar)"
   ]
  },
  {
   "cell_type": "code",
   "execution_count": 5,
   "metadata": {
    "collapsed": true
   },
   "outputs": [],
   "source": [
    "import numpy as np\n",
    "from scipy.interpolate import splprep, splev\n",
    "import matplotlib.pyplot as plt\n",
    "import matplotlib.pyplot as plt\n",
    "from mpl_toolkits.mplot3d import Axes3D\n",
    "from matplotlib.ticker import LinearLocator\n",
    "from matplotlib import cm\n",
    "import math\n",
    "\n",
    "fig = plt.figure()\n",
    "ax = fig.add_subplot(111, projection='3d')\n",
    "\n",
    "# define pts from the question\n",
    "pts = ([ 0.72762771,  0.62766368,  0.52771606,  0.42775177,  0.3277821 ,\n",
    "        0.22778265,  0.12778838,  0.02779382, -0.07217182, -0.17215108,\n",
    "       -0.27214143, -0.37213945, -0.4721351 , -0.5720983 , -0.67209426], \n",
    "      [ 0.63403606,  0.63139695,  0.62829471,  0.62568009,  0.62806788,\n",
    "        0.62774048,  0.62837311,  0.62785683,  0.62526548,  0.62335267,\n",
    "        0.62209633,  0.621478  ,  0.62205443,  0.61934436,  0.62022494],\n",
    "       [-0.99374287, -0.84265888, -0.69167959, -0.54059097, -0.38863191,\n",
    "       -0.23709572, -0.08540191,  0.0660943 ,  0.21718897,  0.36842125,\n",
    "        0.51978351,  0.67126737,  0.82295359,  0.97402411,  1.12576321])\n",
    "\n",
    "tck, u = splprep(pts, u=None, s=0.0) \n",
    "u_new = np.linspace(u.min(), u.max(), 1000000)\n",
    "x_new, y_new, z_new = splev(u_new, tck, der=0)\n",
    "\n",
    "ax.plot(pts[0], pts[1], pts[2], 'ro')\n",
    "ax.plot(x_new, y_new, z_new, 'b--')\n",
    "plt.show()"
   ]
  },
  {
   "cell_type": "code",
   "execution_count": 25,
   "metadata": {
    "collapsed": false
   },
   "outputs": [
    {
     "name": "stdout",
     "output_type": "stream",
     "text": [
      "('len x, len y, len z: ', 100, 100, 100)\n"
     ]
    }
   ],
   "source": [
    "print(\"len x, len y, len z: \", len(x), len(y) , len(z))"
   ]
  },
  {
   "cell_type": "code",
   "execution_count": 13,
   "metadata": {
    "collapsed": false
   },
   "outputs": [
    {
     "data": {
      "text/plain": [
       "array([-1.76469703, -1.18816032, -0.61148888, -0.03469317,  0.54203989,\n",
       "        1.11877731,  1.69543959,  2.84878701,  4.00211988,  5.15567796,\n",
       "        6.30901848,  7.46260452])"
      ]
     },
     "execution_count": 13,
     "metadata": {},
     "output_type": "execute_result"
    }
   ],
   "source": [
    "np.asarray(X)*C[0]"
   ]
  },
  {
   "cell_type": "code",
   "execution_count": 28,
   "metadata": {
    "collapsed": false
   },
   "outputs": [
    {
     "data": {
      "text/plain": [
       "array([[-0.1  , -0.075, -0.05 , -0.025,  0.   ,  0.025,  0.05 ,  0.075],\n",
       "       [-0.1  , -0.075, -0.05 , -0.025,  0.   ,  0.025,  0.05 ,  0.075],\n",
       "       [-0.1  , -0.075, -0.05 , -0.025,  0.   ,  0.025,  0.05 ,  0.075],\n",
       "       [-0.1  , -0.075, -0.05 , -0.025,  0.   ,  0.025,  0.05 ,  0.075],\n",
       "       [-0.1  , -0.075, -0.05 , -0.025,  0.   ,  0.025,  0.05 ,  0.075],\n",
       "       [-0.1  , -0.075, -0.05 , -0.025,  0.   ,  0.025,  0.05 ,  0.075],\n",
       "       [-0.1  , -0.075, -0.05 , -0.025,  0.   ,  0.025,  0.05 ,  0.075],\n",
       "       [-0.1  , -0.075, -0.05 , -0.025,  0.   ,  0.025,  0.05 ,  0.075]])"
      ]
     },
     "execution_count": 28,
     "metadata": {},
     "output_type": "execute_result"
    }
   ],
   "source": [
    "0.1 * X_mesh"
   ]
  },
  {
   "cell_type": "code",
   "execution_count": 16,
   "metadata": {
    "collapsed": false
   },
   "outputs": [
    {
     "data": {
      "text/plain": [
       "array([[ 1. , -0.5,  0.8],\n",
       "       [-0.5,  1.1,  0. ],\n",
       "       [ 0.8,  0. ,  1. ]])"
      ]
     },
     "execution_count": 16,
     "metadata": {},
     "output_type": "execute_result"
    }
   ],
   "source": [
    "np.array([[1.0,-0.5,0.8], [-0.5,1.1,0.0], [0.8,0.0,1.0]])"
   ]
  },
  {
   "cell_type": "code",
   "execution_count": 8,
   "metadata": {
    "collapsed": false
   },
   "outputs": [
    {
     "data": {
      "text/plain": [
       "array([[-0.2777605 ,  1.32813859, -0.11920881],\n",
       "       [ 0.55264369, -0.12972625,  0.47477805],\n",
       "       [-0.79218626,  1.0304091 , -0.04437187],\n",
       "       [-0.04344556, -0.00489085, -0.15571641],\n",
       "       [ 0.72884131,  2.03885805,  1.89906601],\n",
       "       [ 0.80235808, -1.13824719, -0.25435004],\n",
       "       [ 0.14455516,  0.74738004,  1.0732617 ],\n",
       "       [ 2.90644728, -1.15299468,  2.12354304],\n",
       "       [ 0.100343  ,  1.1779903 ,  0.54381225],\n",
       "       [ 1.6397619 , -0.52669809,  1.13694586],\n",
       "       [-0.85809618, -1.5109512 , -1.89592592],\n",
       "       [-1.40131293,  2.16865487,  0.22385262],\n",
       "       [-0.42917352,  1.45223804,  0.92875523],\n",
       "       [ 0.15694315,  0.67018504,  0.46909576],\n",
       "       [-0.22574486, -0.62314192, -0.64885829],\n",
       "       [ 1.76723373, -2.40733194,  0.66064769],\n",
       "       [ 0.11961253,  0.28673007,  1.05771228],\n",
       "       [ 0.36947025,  0.88366987,  1.03087129],\n",
       "       [ 0.23941228,  0.07211673,  0.08316731],\n",
       "       [-0.14707797,  0.62601446, -0.46737115],\n",
       "       [ 0.02542991,  0.26044499,  0.52829063],\n",
       "       [-1.49713746, -0.1688635 , -1.92472124],\n",
       "       [ 0.12061457, -0.76908416, -0.98356878],\n",
       "       [-0.41111843,  0.14172661, -0.55460396],\n",
       "       [-1.64823117,  1.70988225, -1.28281879],\n",
       "       [ 0.40469305,  0.92067374,  1.89227282],\n",
       "       [ 0.34339508,  1.18767141,  1.07338792],\n",
       "       [ 0.90381236,  0.39015551,  0.89711197],\n",
       "       [ 0.45335708, -0.33480279,  0.00776414],\n",
       "       [-0.39620729,  0.53168029,  0.50215061],\n",
       "       [-0.47809213, -0.28914151, -0.0575468 ],\n",
       "       [ 0.2861065 ,  1.12981154,  0.1720664 ],\n",
       "       [-1.67627607,  0.34511123, -1.20796997],\n",
       "       [ 0.20994036, -1.13585375, -0.86969639],\n",
       "       [ 0.59809991, -0.29654873,  0.5987366 ],\n",
       "       [ 0.8128666 ,  0.18324264,  1.26165547],\n",
       "       [-0.09625356,  0.23337238, -0.31887246],\n",
       "       [-1.31025123,  0.47434386, -1.4142271 ],\n",
       "       [-0.13424168, -0.81266608, -0.32612021],\n",
       "       [ 0.05604467,  0.54659189,  0.15531326],\n",
       "       [-0.32346902,  1.0481537 , -0.14207481],\n",
       "       [-1.08289882,  2.09338309, -0.43078915],\n",
       "       [ 1.01054416, -1.17479383,  0.70461117],\n",
       "       [ 0.48507487, -0.32416122,  0.90709639],\n",
       "       [-0.44102596, -1.80561614, -0.55884436],\n",
       "       [ 1.42520005, -0.01747354,  1.46365196],\n",
       "       [-0.88406237,  0.06247281, -0.37497252],\n",
       "       [ 1.08628446, -1.59179319,  0.20137252],\n",
       "       [-0.29580908, -0.48802603, -0.836951  ],\n",
       "       [-1.12609218,  1.56491445, -0.46741433]])"
      ]
     },
     "execution_count": 8,
     "metadata": {},
     "output_type": "execute_result"
    }
   ],
   "source": [
    "data = np.random.multivariate_normal(mean, cov, 50)\n",
    "data"
   ]
  },
  {
   "cell_type": "code",
   "execution_count": 13,
   "metadata": {
    "collapsed": false
   },
   "outputs": [
    {
     "data": {
      "text/plain": [
       "array([ 0.49898123,  0.95149692,  0.        ])"
      ]
     },
     "execution_count": 13,
     "metadata": {},
     "output_type": "execute_result"
    }
   ],
   "source": [
    "data[:,0]"
   ]
  },
  {
   "cell_type": "code",
   "execution_count": 12,
   "metadata": {
    "collapsed": false
   },
   "outputs": [
    {
     "name": "stdout",
     "output_type": "stream",
     "text": [
      "0.498981232067 -0.824184266535 0.267839550553\n",
      "0.951496923667 0.295688573039 0.0849815981676\n"
     ]
    },
    {
     "data": {
      "text/plain": [
       "array([[ 0.49898123, -0.82418427,  0.26783955],\n",
       "       [ 0.95149692,  0.29568857,  0.0849816 ],\n",
       "       [ 0.        ,  0.        ,  0.        ]])"
      ]
     },
     "execution_count": 12,
     "metadata": {},
     "output_type": "execute_result"
    }
   ],
   "source": [
    "x1,y1,z1 = random_three_vector_sphere_2()\n",
    "print(x1, y1, z1)\n",
    "x2,y2,z2 = random_three_vector_sphere_2()\n",
    "print(x2, y2, z2)\n",
    "data = np.array([[x1,y1,z1], [x2,y2,z2], [0, 0, 0]])\n",
    "data"
   ]
  },
  {
   "cell_type": "code",
   "execution_count": 5,
   "metadata": {
    "collapsed": false
   },
   "outputs": [
    {
     "data": {
      "text/plain": [
       "[array([[-3. , -2.5, -2. , -1.5, -1. , -0.5,  0. ,  0.5,  1. ,  1.5,  2. ,\n",
       "          2.5],\n",
       "        [-3. , -2.5, -2. , -1.5, -1. , -0.5,  0. ,  0.5,  1. ,  1.5,  2. ,\n",
       "          2.5],\n",
       "        [-3. , -2.5, -2. , -1.5, -1. , -0.5,  0. ,  0.5,  1. ,  1.5,  2. ,\n",
       "          2.5],\n",
       "        [-3. , -2.5, -2. , -1.5, -1. , -0.5,  0. ,  0.5,  1. ,  1.5,  2. ,\n",
       "          2.5],\n",
       "        [-3. , -2.5, -2. , -1.5, -1. , -0.5,  0. ,  0.5,  1. ,  1.5,  2. ,\n",
       "          2.5],\n",
       "        [-3. , -2.5, -2. , -1.5, -1. , -0.5,  0. ,  0.5,  1. ,  1.5,  2. ,\n",
       "          2.5],\n",
       "        [-3. , -2.5, -2. , -1.5, -1. , -0.5,  0. ,  0.5,  1. ,  1.5,  2. ,\n",
       "          2.5],\n",
       "        [-3. , -2.5, -2. , -1.5, -1. , -0.5,  0. ,  0.5,  1. ,  1.5,  2. ,\n",
       "          2.5],\n",
       "        [-3. , -2.5, -2. , -1.5, -1. , -0.5,  0. ,  0.5,  1. ,  1.5,  2. ,\n",
       "          2.5],\n",
       "        [-3. , -2.5, -2. , -1.5, -1. , -0.5,  0. ,  0.5,  1. ,  1.5,  2. ,\n",
       "          2.5],\n",
       "        [-3. , -2.5, -2. , -1.5, -1. , -0.5,  0. ,  0.5,  1. ,  1.5,  2. ,\n",
       "          2.5],\n",
       "        [-3. , -2.5, -2. , -1.5, -1. , -0.5,  0. ,  0.5,  1. ,  1.5,  2. ,\n",
       "          2.5]]),\n",
       " array([[-3. , -3. , -3. , -3. , -3. , -3. , -3. , -3. , -3. , -3. , -3. ,\n",
       "         -3. ],\n",
       "        [-2.5, -2.5, -2.5, -2.5, -2.5, -2.5, -2.5, -2.5, -2.5, -2.5, -2.5,\n",
       "         -2.5],\n",
       "        [-2. , -2. , -2. , -2. , -2. , -2. , -2. , -2. , -2. , -2. , -2. ,\n",
       "         -2. ],\n",
       "        [-1.5, -1.5, -1.5, -1.5, -1.5, -1.5, -1.5, -1.5, -1.5, -1.5, -1.5,\n",
       "         -1.5],\n",
       "        [-1. , -1. , -1. , -1. , -1. , -1. , -1. , -1. , -1. , -1. , -1. ,\n",
       "         -1. ],\n",
       "        [-0.5, -0.5, -0.5, -0.5, -0.5, -0.5, -0.5, -0.5, -0.5, -0.5, -0.5,\n",
       "         -0.5],\n",
       "        [ 0. ,  0. ,  0. ,  0. ,  0. ,  0. ,  0. ,  0. ,  0. ,  0. ,  0. ,\n",
       "          0. ],\n",
       "        [ 0.5,  0.5,  0.5,  0.5,  0.5,  0.5,  0.5,  0.5,  0.5,  0.5,  0.5,\n",
       "          0.5],\n",
       "        [ 1. ,  1. ,  1. ,  1. ,  1. ,  1. ,  1. ,  1. ,  1. ,  1. ,  1. ,\n",
       "          1. ],\n",
       "        [ 1.5,  1.5,  1.5,  1.5,  1.5,  1.5,  1.5,  1.5,  1.5,  1.5,  1.5,\n",
       "          1.5],\n",
       "        [ 2. ,  2. ,  2. ,  2. ,  2. ,  2. ,  2. ,  2. ,  2. ,  2. ,  2. ,\n",
       "          2. ],\n",
       "        [ 2.5,  2.5,  2.5,  2.5,  2.5,  2.5,  2.5,  2.5,  2.5,  2.5,  2.5,\n",
       "          2.5]])]"
      ]
     },
     "execution_count": 5,
     "metadata": {},
     "output_type": "execute_result"
    }
   ],
   "source": [
    "np.meshgrid(np.arange(-3.0, 3.0, 0.5), np.arange(-3.0, 3.0, 0.5))"
   ]
  },
  {
   "cell_type": "code",
   "execution_count": 16,
   "metadata": {
    "collapsed": false,
    "scrolled": true
   },
   "outputs": [
    {
     "name": "stdout",
     "output_type": "stream",
     "text": [
      "First random point:  -0.14 -0.66 -0.74\n",
      "Second random point:  -0.25 -0.44 0.86\n",
      "plane p: Plane(Point3D(0, 0, 0), (-2233/2500, 1527/5000, -517/5000))\n",
      "next point: Point3D(4466*sqrt(11272087)*(-1527*sin(t) + 4466*cos(t))*sqrt(1/(13639164*sin(2*t) - 17613427*cos(2*t) + 22811463))/11272087 - 2*sqrt(11272087)*sqrt(1/(13639164*sin(2*t) - 17613427*cos(2*t) + 22811463))*cos(t), -1527*sqrt(11272087)*(-1527*sin(t) + 4466*cos(t))*sqrt(1/(13639164*sin(2*t) - 17613427*cos(2*t) + 22811463))/11272087 - 2*sqrt(11272087)*sqrt(1/(13639164*sin(2*t) - 17613427*cos(2*t) + 22811463))*sin(t), 517*sqrt(11272087)*(-1527*sin(t) + 4466*cos(t))*sqrt(1/(13639164*sin(2*t) - 17613427*cos(2*t) + 22811463))/11272087)\n",
      "angle:  2.7490049820148705\n",
      "xs, ys, zs:  -0.073 -0.506 -0.86\n",
      "angle:  2.8718279564310594\n",
      "xs, ys, zs:  -0.232 -0.635 0.119\n",
      "angle:  5.823031593320194\n",
      "xs, ys, zs:  -0.503 -1.538 -0.215\n",
      "angle:  0.6358431519597726\n",
      "xs, ys, zs:  -0.828 -2.484 -0.213\n",
      "angle:  3.08390795023638\n",
      "xs, ys, zs:  -1.169 -3.361 0.127\n",
      "angle:  0.940764344420763\n",
      "xs, ys, zs:  -1.469 -4.298 -0.054\n",
      "angle:  3.1854120695397654\n",
      "xs, ys, zs:  -1.807 -5.224 0.114\n",
      "angle:  3.0953774028683996\n",
      "xs, ys, zs:  -2.132 -6.17 0.12\n",
      "angle:  4.301834692980829\n",
      "xs, ys, zs:  -2.443 -7.114 0.01\n",
      "angle:  4.905389536262027\n",
      "xs, ys, zs:  -2.76 -8.06 -0.055\n",
      "[-0.14000000000000001, -0.073, -0.232, -0.503, -0.828, -1.169, -1.469, -1.807, -2.132, -2.443, -2.76] [-0.66000000000000003, -0.506, -0.635, -1.538, -2.484, -3.361, -4.298, -5.224, -6.17, -7.114, -8.06] [-0.73999999999999999, -0.86, 0.119, -0.215, -0.213, 0.127, -0.054, 0.114, 0.12, 0.01, -0.055]\n"
     ]
    }
   ],
   "source": [
    "#latest version\n",
    "\n",
    "import numpy as np\n",
    "import scipy as sp\n",
    "import matplotlib.pyplot as plt\n",
    "from mpl_toolkits.mplot3d import Axes3D\n",
    "from matplotlib.ticker import LinearLocator\n",
    "from matplotlib import cm\n",
    "import math\n",
    "from sympy import *\n",
    "\n",
    "\n",
    "def random_three_vector_sphere_1():\n",
    "    \"\"\"\n",
    "    Generates a random 3D unit vector (direction) with a uniform spherical distribution\n",
    "    Algo from http://stackoverflow.com/questions/5408276/python-uniform-spherical-distribution\n",
    "    :return:\n",
    "    \"\"\"\n",
    "    phi = np.random.uniform(0,np.pi*2)\n",
    "    costheta = np.random.uniform(-1,1)\n",
    "\n",
    "    theta = np.arccos( costheta )\n",
    "    x = np.sin( theta) * np.cos( phi )\n",
    "    y = np.sin( theta) * np.sin( phi )\n",
    "    z = np.cos( theta )\n",
    "    return (x,y,z)\n",
    "\n",
    "def random_three_vector_sphere_2(cx = 0 , cy = 0, cz = 0, radius = 1, restrict = False):\n",
    "    \"\"\"\n",
    "    Generates a random 3D unit vector (direction) with a uniform spherical distribution\n",
    "    Algo from http://mathworld.wolfram.com/SpherePointPicking\n",
    "    :return:\n",
    "    \"\"\"\n",
    "\n",
    "    if (restrict == True) :\n",
    "       U = np.random.uniform(0.495,0.505)\n",
    "       V = np.random.uniform(0.505,0.495)\n",
    "    else :    \n",
    "       U = np.random.uniform(0,1)\n",
    "       V = np.random.uniform(0,1)\n",
    "    \n",
    "    theta = np.pi*2*U\n",
    "    cosphi = 2*V - 1\n",
    "\n",
    "    phi = np.arccos( cosphi )\n",
    "    x = np.sin( phi ) * np.cos( theta )\n",
    "    y = np.sin( phi ) * np.sin( theta )\n",
    "    z = np.cos( phi )\n",
    "    return (round(x*radius+cx,2),round(y*radius+cy,2),round(z*radius+cz,2))\n",
    "\n",
    "def random_next_vertix(px ,py, pz, delta = 0.001):\n",
    "    cx = 0 \n",
    "    cy = 0 \n",
    "    cz = 0 \n",
    "    r = 1\n",
    "    max_trial = 10000\n",
    "    alt_values_tested = 0\n",
    "\n",
    "    nx, ny, nz = random_three_vector_sphere_2(px, py, pz, delta, True)\n",
    "    d = math.sqrt((nx-cx)**2 + (ny-cy)**2 + (nz-cz)**2)\n",
    "\n",
    "    while ((d > r) & (alt_values_tested < max_trial)) :\n",
    "        print(\"distance d: \", d, \" is greater than r: \", r)\n",
    "        tx, ty, tz = random_three_vector_sphere_2(nx, ny, nz, delta, True)\n",
    "        d = math.sqrt((tx-cx )**2 + (ty-cy)**2 + (tz-cz)**2)   \n",
    "        alt_values_tested += 1\n",
    " \n",
    "    print(\"accepted distance d: \", d, \" is greater than r: \", r)\n",
    "\n",
    "    if(alt_values_tested > 0) :\n",
    "        return tx,ty,tz\n",
    "    \n",
    "    if(alt_values_tested >= max_trial) :\n",
    "        print(\"max trial reached: \", alt_values_tested)\n",
    "        return 0,0,0\n",
    "    \n",
    "    return nx, ny, nz\n",
    "\n",
    "X = []\n",
    "Y = []\n",
    "Z = []\n",
    "\n",
    "delta = 0.001\n",
    "n = 10\n",
    "\n",
    "fig = plt.figure()\n",
    "ax = fig.add_subplot(111, projection='3d')\n",
    "\n",
    "#a random vertix on unit sphere\n",
    "x1,y1,z1 = random_three_vector_sphere_2(0,0,0,1,False)\n",
    "print(\"First random point: \", x1, y1, z1)\n",
    "x2,y2,z2 = random_three_vector_sphere_2(0,0,0,1,False)\n",
    "print(\"Second random point: \", x2, y2, z2)\n",
    "X.append(x1)\n",
    "Y.append(y1)\n",
    "Z.append(z1)\n",
    "#ax.scatter(x1, y1, z1)\n",
    "\n",
    "#find a plane passing through this point perpendicular \n",
    "#to line from center to this point\n",
    "from sympy import Point3D\n",
    "from sympy.geometry.plane import Plane\n",
    "from sympy.abc import t\n",
    "p = Plane(Point3D(0,0,0), Point3D(x1,y1,z1), Point3D(x2,y2,z2))\n",
    "print(\"plane p:\", p)\n",
    "next_point = p.arbitrary_point(t)\n",
    "print(\"next point:\", next_point)\n",
    "\n",
    "for i in range(n):\n",
    "    angle = np.pi*2*np.random.uniform(0,1)\n",
    "    print(\"angle: \", angle)\n",
    "    xs = round(next_point.x.simplify().evalf(subs={t: angle}),3)\n",
    "    ys = round(next_point.y.simplify().evalf(subs={t: angle}),3)\n",
    "    zs = round(next_point.z.simplify().evalf(subs={t: angle}),3)\n",
    "    X.append((xs))\n",
    "    Y.append((ys))\n",
    "    Z.append((zs))\n",
    "    print(\"xs, ys, zs: \", xs,ys,zs)\n",
    "    p = Plane(Point3D(xs,ys,zs) , Point3D(0,0,0), Point3D(x1,y1,z1))\n",
    "    #print(\"next plane p:\", p)\n",
    "    next_point = p.arbitrary_point(t)\n",
    "    #print(\"next point:\", next_point)\n",
    "    \n",
    "print(X,Y,Z)\n",
    "ax.plot_wireframe(X, Y, Z)\n",
    "ax.set_xlabel('X axis')\n",
    "ax.set_ylabel('Y axis')\n",
    "ax.set_zlabel('Z axis')\n",
    "plt.show()"
   ]
  },
  {
   "cell_type": "code",
   "execution_count": 19,
   "metadata": {
    "collapsed": false
   },
   "outputs": [],
   "source": [
    "pts1 = np.concatenate((X,Y,Z), axis=0)\n",
    "pts1 = pts1.reshape(3,11)\n",
    "pts = pts1"
   ]
  },
  {
   "cell_type": "code",
   "execution_count": 20,
   "metadata": {
    "collapsed": false
   },
   "outputs": [],
   "source": [
    "import numpy as np\n",
    "from scipy.interpolate import splprep, splev\n",
    "import matplotlib.pyplot as plt\n",
    "import matplotlib.pyplot as plt\n",
    "from mpl_toolkits.mplot3d import Axes3D\n",
    "from matplotlib.ticker import LinearLocator\n",
    "from matplotlib import cm\n",
    "import math\n",
    "\n",
    "fig = plt.figure()\n",
    "ax = fig.add_subplot(111, projection='3d')\n",
    "\n",
    "tck, u = splprep(pts, u=None, s=0.0) \n",
    "u_new = np.linspace(u.min(), u.max(), 1000)\n",
    "x_new, y_new, z_new = splev(u_new, tck, der=0)\n",
    "\n",
    "ax.plot(pts[0], pts[1], pts[2], 'ro')\n",
    "ax.plot(x_new, y_new, z_new, 'b--')\n",
    "plt.show()"
   ]
  },
  {
   "cell_type": "code",
   "execution_count": 21,
   "metadata": {
    "collapsed": false
   },
   "outputs": [],
   "source": [
    "next_point = p.arbitrary_point(t)"
   ]
  },
  {
   "cell_type": "code",
   "execution_count": 36,
   "metadata": {
    "collapsed": false
   },
   "outputs": [
    {
     "data": {
      "text/plain": [
       "1"
      ]
     },
     "execution_count": 36,
     "metadata": {},
     "output_type": "execute_result"
    }
   ],
   "source": [
    "next_point.distance(p.p1).simplify()"
   ]
  },
  {
   "cell_type": "code",
   "execution_count": 32,
   "metadata": {
    "collapsed": false
   },
   "outputs": [
    {
     "data": {
      "text/plain": [
       "99843037715140391598931339459*x/6250000000000000000000000000 - 677597537975280034353716860257*y/10000000000000000000000000000 + 4889941994502547774340253615549*z/100000000000000000000000000000"
      ]
     },
     "execution_count": 32,
     "metadata": {},
     "output_type": "execute_result"
    }
   ],
   "source": [
    "p.equation()"
   ]
  },
  {
   "cell_type": "code",
   "execution_count": 61,
   "metadata": {
    "collapsed": false
   },
   "outputs": [
    {
     "data": {
      "text/plain": [
       "-3.52630547196557e-31*(3.60818114878678e+60*sin(t) + 2.32751250188719e+61*cos(t))*(1/(1.08245434463603e+61*sin(2*t) + 2.16809362544441e+61*cos(2*t) + 4.81444388021715e+61))**0.5"
      ]
     },
     "execution_count": 61,
     "metadata": {},
     "output_type": "execute_result"
    }
   ],
   "source": [
    "N(next_point.x.simplify())"
   ]
  },
  {
   "cell_type": "code",
   "execution_count": 63,
   "metadata": {
    "collapsed": false
   },
   "outputs": [
    {
     "data": {
      "text/plain": [
       "-3.52630547196557e-31*(3.60818114878678e+60*sin(t) + 2.32751250188719e+61*cos(t))*(1/(1.08245434463603e+61*sin(2*t) + 2.16809362544441e+61*cos(2*t) + 4.81444388021715e+61))**0.5"
      ]
     },
     "execution_count": 63,
     "metadata": {},
     "output_type": "execute_result"
    }
   ],
   "source": [
    "next_point.x.simplify().evalf()"
   ]
  },
  {
   "cell_type": "code",
   "execution_count": 65,
   "metadata": {
    "collapsed": false
   },
   "outputs": [
    {
     "data": {
      "text/plain": [
       "-0.955865830162551"
      ]
     },
     "execution_count": 65,
     "metadata": {},
     "output_type": "execute_result"
    }
   ],
   "source": [
    "next_point.x.simplify().evalf(subs={t: 0.4})"
   ]
  },
  {
   "cell_type": "code",
   "execution_count": 66,
   "metadata": {
    "collapsed": false
   },
   "outputs": [
    {
     "data": {
      "text/plain": [
       "-0.282809931689546"
      ]
     },
     "execution_count": 66,
     "metadata": {},
     "output_type": "execute_result"
    }
   ],
   "source": [
    "next_point.y.simplify().evalf(subs={t: 0.4})"
   ]
  },
  {
   "cell_type": "code",
   "execution_count": 67,
   "metadata": {
    "collapsed": false
   },
   "outputs": [
    {
     "data": {
      "text/plain": [
       "-0.0796181968234168"
      ]
     },
     "execution_count": 67,
     "metadata": {},
     "output_type": "execute_result"
    }
   ],
   "source": [
    "next_point.z.simplify().evalf(subs={t: 0.4})"
   ]
  },
  {
   "cell_type": "code",
   "execution_count": 71,
   "metadata": {
    "collapsed": false
   },
   "outputs": [
    {
     "data": {
      "text/plain": [
       "-0.282051687712451"
      ]
     },
     "execution_count": 71,
     "metadata": {},
     "output_type": "execute_result"
    }
   ],
   "source": [
    "x=0.8\n",
    "next_point.z.simplify().evalf(subs={t: x})"
   ]
  },
  {
   "cell_type": "code",
   "execution_count": 72,
   "metadata": {
    "collapsed": false
   },
   "outputs": [
    {
     "data": {
      "text/plain": [
       "Point3D(0.444824004817469, -0.452781017948920, -0.772736018652740)"
      ]
     },
     "execution_count": 72,
     "metadata": {},
     "output_type": "execute_result"
    }
   ],
   "source": [
    "next_point.evalf(subs={t: 2})"
   ]
  },
  {
   "cell_type": "code",
   "execution_count": 34,
   "metadata": {
    "collapsed": false
   },
   "outputs": [
    {
     "data": {
      "text/plain": [
       "Point3D(-sqrt(72377344894743520142687312801973982845536429408336057250822637)*cos(3802937935871711/4503599627370496)/sqrt(21680936254444124240308163333045557590960876765812061332479282*cos(3802937935871711/2251799813685248) + 10824543446360345313512469872324652490011922399353109276954080*sin(3802937935871711/2251799813685248) + 48144438802171537555207575333017549122621702703541111972697019) - 3194977206884492531165802862688*sqrt(72377344894743520142687312801973982845536429408336057250822637)*(-798744301721123132791450715672*cos(3802937935871711/4503599627370496) + 3387987689876400171768584301285*sin(3802937935871711/4503599627370496))/(72377344894743520142687312801973982845536429408336057250822637*sqrt(21680936254444124240308163333045557590960876765812061332479282*cos(3802937935871711/2251799813685248) + 10824543446360345313512469872324652490011922399353109276954080*sin(3802937935871711/2251799813685248) + 48144438802171537555207575333017549122621702703541111972697019)), -sqrt(72377344894743520142687312801973982845536429408336057250822637)*sin(3802937935871711/4503599627370496)/sqrt(21680936254444124240308163333045557590960876765812061332479282*cos(3802937935871711/2251799813685248) + 10824543446360345313512469872324652490011922399353109276954080*sin(3802937935871711/2251799813685248) + 48144438802171537555207575333017549122621702703541111972697019) + 13551950759505600687074337205140*sqrt(72377344894743520142687312801973982845536429408336057250822637)*(-798744301721123132791450715672*cos(3802937935871711/4503599627370496) + 3387987689876400171768584301285*sin(3802937935871711/4503599627370496))/(72377344894743520142687312801973982845536429408336057250822637*sqrt(21680936254444124240308163333045557590960876765812061332479282*cos(3802937935871711/2251799813685248) + 10824543446360345313512469872324652490011922399353109276954080*sin(3802937935871711/2251799813685248) + 48144438802171537555207575333017549122621702703541111972697019)), -9779883989005095548680507231098*sqrt(72377344894743520142687312801973982845536429408336057250822637)*(-798744301721123132791450715672*cos(3802937935871711/4503599627370496) + 3387987689876400171768584301285*sin(3802937935871711/4503599627370496))/(72377344894743520142687312801973982845536429408336057250822637*sqrt(21680936254444124240308163333045557590960876765812061332479282*cos(3802937935871711/2251799813685248) + 10824543446360345313512469872324652490011922399353109276954080*sin(3802937935871711/2251799813685248) + 48144438802171537555207575333017549122621702703541111972697019)))"
      ]
     },
     "execution_count": 34,
     "metadata": {},
     "output_type": "execute_result"
    }
   ],
   "source": [
    "p.random_point(0)"
   ]
  },
  {
   "cell_type": "code",
   "execution_count": 5,
   "metadata": {
    "collapsed": false
   },
   "outputs": [],
   "source": [
    "pp = p.perpendicular_plane(Point3D(0,0,0), Point3D(x1,y1,z1))"
   ]
  },
  {
   "cell_type": "code",
   "execution_count": 6,
   "metadata": {
    "collapsed": false
   },
   "outputs": [],
   "source": [
    "ap = pp.arbitrary_point()"
   ]
  },
  {
   "cell_type": "code",
   "execution_count": 7,
   "metadata": {
    "collapsed": false
   },
   "outputs": [
    {
     "data": {
      "text/plain": [
       "-227147429009476196375026640769*sqrt(926526798343210818604407893458)*sqrt(-1/(699379369333734622229381252689*sin(_t)**2 - 926526798343210818604407893458))*sin(_t)/926526798343210818604407893458"
      ]
     },
     "execution_count": 7,
     "metadata": {},
     "output_type": "execute_result"
    }
   ],
   "source": [
    "ap.y"
   ]
  },
  {
   "cell_type": "code",
   "execution_count": null,
   "metadata": {
    "collapsed": true
   },
   "outputs": [],
   "source": []
  }
 ],
 "metadata": {
  "anaconda-cloud": {},
  "kernelspec": {
   "display_name": "Python [Root]",
   "language": "python",
   "name": "Python [Root]"
  },
  "language_info": {
   "codemirror_mode": {
    "name": "ipython",
    "version": 3
   },
   "file_extension": ".py",
   "mimetype": "text/x-python",
   "name": "python",
   "nbconvert_exporter": "python",
   "pygments_lexer": "ipython3",
   "version": "3.5.2"
  },
  "latex_envs": {
   "bibliofile": "biblio.bib",
   "cite_by": "apalike",
   "current_citInitial": 1,
   "eqLabelWithNumbers": true,
   "eqNumInitial": 0
  },
  "toc": {
   "toc_cell": true,
   "toc_number_sections": true,
   "toc_threshold": "6",
   "toc_window_display": true
  }
 },
 "nbformat": 4,
 "nbformat_minor": 0
}
